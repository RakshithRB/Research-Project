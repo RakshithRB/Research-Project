{
  "nbformat": 4,
  "nbformat_minor": 0,
  "metadata": {
    "colab": {
      "name": "future_prediction_LSTM_SIT723.ipynb",
      "provenance": []
    },
    "kernelspec": {
      "name": "python3",
      "display_name": "Python 3"
    },
    "language_info": {
      "name": "python"
    }
  },
  "cells": [
    {
      "cell_type": "code",
      "execution_count": 25,
      "metadata": {
        "id": "-5zxiJE7qO9s"
      },
      "outputs": [],
      "source": [
        "import math\n",
        "import numpy as np\n",
        "import pandas as pd\n",
        "import time\n",
        "\n",
        "import matplotlib.pyplot as plt\n",
        "import tensorflow as tf\n",
        "\n",
        "from sklearn.preprocessing import MinMaxScaler \n",
        "from tensorflow import keras\n",
        "from tensorflow.keras import layers\n",
        "from keras.models import Sequential\n",
        "from keras.layers import Dense\n",
        "from keras.layers import LSTM"
      ]
    },
    {
      "cell_type": "code",
      "source": [
        "from google.colab import drive\n",
        "drive.mount('/content/drive')"
      ],
      "metadata": {
        "colab": {
          "base_uri": "https://localhost:8080/"
        },
        "id": "5YHD528PrObp",
        "outputId": "9d29d061-12fd-40f2-8a4d-bb3d38d0b761"
      },
      "execution_count": 5,
      "outputs": [
        {
          "output_type": "stream",
          "name": "stdout",
          "text": [
            "Mounted at /content/drive\n"
          ]
        }
      ]
    },
    {
      "cell_type": "code",
      "source": [
        "#load dataset\n",
        "#taking alphabet as an exmaple to test out prediction\n",
        "StockData = pd.read_csv(\"/content/drive/MyDrive/Datasets/ALPH.csv\")"
      ],
      "metadata": {
        "id": "2u3Eb5bWrhqR"
      },
      "execution_count": 115,
      "outputs": []
    },
    {
      "cell_type": "code",
      "source": [
        "StockData[\"Date\"] = pd.to_datetime(StockData[\"Date\"])"
      ],
      "metadata": {
        "id": "tp2TEcLMyV_0"
      },
      "execution_count": 116,
      "outputs": []
    },
    {
      "cell_type": "code",
      "source": [
        "FullData=StockData[['Adj Close']].values\n",
        "print(FullData[0:5])\n",
        "from sklearn.preprocessing import StandardScaler, MinMaxScaler\n",
        "\n",
        "sc=MinMaxScaler()\n",
        " \n",
        "DataScaler = sc.fit(FullData)\n",
        "X=DataScaler.transform(FullData)\n",
        "X[0:5]"
      ],
      "metadata": {
        "id": "_NKZ9ZrpyeZN"
      },
      "execution_count": null,
      "outputs": []
    },
    {
      "cell_type": "markdown",
      "source": [
        "# Predicting for future 5 days"
      ],
      "metadata": {
        "id": "2ORvcNrW_vXL"
      }
    },
    {
      "cell_type": "code",
      "source": [
        "print('Original Prices')\n",
        "print(FullData[-10:])\n",
        "\n",
        "X=X.reshape(X.shape[0],)\n",
        "print('Scaled Prices')\n",
        "print(X[-10:])"
      ],
      "metadata": {
        "id": "nEl3Ms2E_xP4"
      },
      "execution_count": null,
      "outputs": []
    },
    {
      "cell_type": "code",
      "source": [
        "# split into samples\n",
        "X_samples = list()\n",
        "y_samples = list()\n",
        " \n",
        "NumerOfRows = len(X)\n",
        "TimeSteps=10\n",
        "FutureTimeSteps=5\n",
        " \n",
        "# Iterate thru the values to create combinations\n",
        "for i in range(TimeSteps , NumerOfRows-FutureTimeSteps , 1):\n",
        "    x_sample = X[i-TimeSteps:i]\n",
        "    y_sample = X[i:i+FutureTimeSteps]\n",
        "    X_samples.append(x_sample)\n",
        "    y_samples.append(y_sample)\n",
        "\n",
        "X_data=np.array(X_samples)\n",
        "X_data=X_data.reshape(X_data.shape[0],X_data.shape[1], 1) \n",
        "y_data=np.array(y_samples)"
      ],
      "metadata": {
        "id": "O9H3ZQO8_0Mi"
      },
      "execution_count": 119,
      "outputs": []
    },
    {
      "cell_type": "code",
      "source": [
        "TestingRecords=5\n",
        "\n",
        "X_train=X_data[:-TestingRecords]\n",
        "X_test=X_data[-TestingRecords:]\n",
        "y_train=y_data[:-TestingRecords]\n",
        "y_test=y_data[-TestingRecords:]"
      ],
      "metadata": {
        "id": "R76rbcUxAAYT"
      },
      "execution_count": 120,
      "outputs": []
    },
    {
      "cell_type": "code",
      "source": [
        "for inp, out in zip(X_train[0:2], y_train[0:2]):\n",
        "    print(inp)\n",
        "    print('====>')\n",
        "    print(out)\n",
        "    print('#'*20)"
      ],
      "metadata": {
        "id": "lz1TjXFOAGCc"
      },
      "execution_count": null,
      "outputs": []
    },
    {
      "cell_type": "code",
      "source": [
        "TimeSteps=X_train.shape[1]\n",
        "TotalFeatures=X_train.shape[2]\n",
        "print(\"Number of TimeSteps:\", TimeSteps)\n",
        "print(\"Number of Features:\", TotalFeatures)"
      ],
      "metadata": {
        "id": "sFr8LUnA-nxZ"
      },
      "execution_count": null,
      "outputs": []
    },
    {
      "cell_type": "code",
      "source": [
        "regressor = Sequential()\n",
        "\n",
        "regressor.add(LSTM(units = 200, activation = 'relu', input_shape = (TimeSteps, TotalFeatures), return_sequences=True))\n",
        "regressor.add(LSTM(units = 5, activation = 'relu', return_sequences=False ))\n",
        "regressor.add(Dense(units = FutureTimeSteps))\n",
        "\n",
        "regressor.compile(optimizer = 'adam', loss = 'mean_squared_error')\n",
        "\n",
        "StartTime=time.time()\n",
        " \n",
        "# Fitting the RNN to the Training set\n",
        "regressor.fit(X_train, y_train, batch_size = 32, epochs = 100)\n",
        " \n",
        "EndTime=time.time()\n",
        "print(\"Time --> \", round((EndTime-StartTime)/60), 'Minutes')"
      ],
      "metadata": {
        "id": "_VdAY-Da-sAW"
      },
      "execution_count": null,
      "outputs": []
    },
    {
      "cell_type": "code",
      "source": [
        "predicted_Price = regressor.predict(X_test)\n",
        "predicted_Price = DataScaler.inverse_transform(predicted_Price)\n",
        "print(predicted_Price)\n",
        "\n",
        "orig=y_test\n",
        "orig=DataScaler.inverse_transform(y_test)\n",
        "print(orig)"
      ],
      "metadata": {
        "id": "POu8MZyk-uQU"
      },
      "execution_count": null,
      "outputs": []
    },
    {
      "cell_type": "code",
      "source": [
        "Last10DaysPrices = np.array([2609.51, 2534.8, 2593.21, 2673.81, 2692.01, 2736.03, 2729.57, 2805.55, 2770.07, 2826.24])\n",
        "Last10DaysPrices=Last10DaysPrices.reshape(-1, 1)\n",
        "\n",
        "X_test=DataScaler.transform(Last10DaysPrices)\n",
        " \n",
        "NumberofSamples=1\n",
        "TimeSteps=X_test.shape[0]\n",
        "NumberofFeatures=X_test.shape[1]\n",
        "X_test=X_test.reshape(NumberofSamples,TimeSteps,NumberofFeatures)\n",
        "\n",
        "Next5DaysPrice = regressor.predict(X_test)\n",
        "\n",
        "Next5DaysPrice = DataScaler.inverse_transform(Next5DaysPrice)\n",
        "for line in Next5DaysPrice:\n",
        "    print(\"Predicted values --> \",*line)"
      ],
      "metadata": {
        "id": "KWK2Ejyp-0AF"
      },
      "execution_count": null,
      "outputs": []
    }
  ]
}